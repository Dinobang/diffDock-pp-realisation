{
 "cells": [
  {
   "cell_type": "code",
   "execution_count": 1,
   "metadata": {},
   "outputs": [],
   "source": [
    "from pathlib import Path\n",
    "import sys\n",
    "\n",
    "sys.path.append(str(Path.cwd().parent))\n",
    "\n",
    "from rpp_dock.data.datamodule import DataModule"
   ]
  },
  {
   "cell_type": "code",
   "execution_count": 2,
   "metadata": {},
   "outputs": [],
   "source": [
    "%load_ext autoreload\n",
    "%autoreload 2"
   ]
  },
  {
   "cell_type": "code",
   "execution_count": 3,
   "metadata": {},
   "outputs": [
    {
     "name": "stderr",
     "output_type": "stream",
     "text": [
      "c:\\Users\\Пуся\\Desktop\\spbu\\mcs_prac\\mcs_prac\\rpp_dock\\utils\\geom_utils.py:15: UserWarning: Using torch.cross without specifying the dim arg is deprecated.\n",
      "Please either pass the dim explicitly or simply use torch.linalg.cross.\n",
      "The default value of dim will change to agree with that of linalg.cross in a future release. (Triggered internally at ..\\aten\\src\\ATen\\native\\Cross.cpp:67.)\n",
      "  n_i = torch.cross(u_i, t_i) / torch.linalg.norm(torch.cross(u_i, t_i))\n"
     ]
    },
    {
     "name": "stdout",
     "output_type": "stream",
     "text": [
      "tensor([[  1,   2,  51,  ..., 126, 131, 190],\n",
      "        [  0,   0,   0,  ..., 195, 195, 195]])\n"
     ]
    },
    {
     "name": "stderr",
     "output_type": "stream",
     "text": [
      "100%|██████████| 2252/2252 [00:03<00:00, 577.88it/s] \n"
     ]
    },
    {
     "name": "stdout",
     "output_type": "stream",
     "text": [
      "tensor([[  1,   4,   5,  ...,  94,  91, 242],\n",
      "        [  0,   0,   0,  ..., 247, 247, 247]])\n"
     ]
    },
    {
     "name": "stderr",
     "output_type": "stream",
     "text": [
      "100%|██████████| 2872/2872 [00:02<00:00, 1001.80it/s]\n"
     ]
    },
    {
     "name": "stdout",
     "output_type": "stream",
     "text": [
      "finish of apply_noise\n",
      "tensor([[  1,   2,  51,  ..., 126, 131, 190],\n",
      "        [  0,   0,   0,  ..., 195, 195, 195]])\n"
     ]
    },
    {
     "name": "stderr",
     "output_type": "stream",
     "text": [
      "100%|██████████| 2252/2252 [00:02<00:00, 867.83it/s]\n"
     ]
    },
    {
     "name": "stdout",
     "output_type": "stream",
     "text": [
      "tensor([[  1,   4,   5,  ...,  94,  91, 242],\n",
      "        [  0,   0,   0,  ..., 247, 247, 247]])\n"
     ]
    },
    {
     "name": "stderr",
     "output_type": "stream",
     "text": [
      "100%|██████████| 2872/2872 [00:04<00:00, 683.75it/s]"
     ]
    },
    {
     "name": "stdout",
     "output_type": "stream",
     "text": [
      "finish of apply_noise\n"
     ]
    },
    {
     "name": "stderr",
     "output_type": "stream",
     "text": [
      "\n"
     ]
    }
   ],
   "source": [
    "dm = DataModule(\n",
    "    pdbdir='../structures/',\n",
    "    train_csv='../splits_test.csv',\n",
    "    val_csv='../splits_test.csv',\n",
    "    batch_size=4\n",
    ")\n",
    "dm.setup(\"fit\")"
   ]
  },
  {
   "cell_type": "code",
   "execution_count": 4,
   "metadata": {},
   "outputs": [
    {
     "data": {
      "text/plain": [
       "<torch.utils.data.dataloader.DataLoader at 0x1b7bf3d3510>"
      ]
     },
     "execution_count": 4,
     "metadata": {},
     "output_type": "execute_result"
    }
   ],
   "source": [
    "loader = dm.train_dataloader()\n",
    "loader"
   ]
  },
  {
   "cell_type": "code",
   "execution_count": 5,
   "metadata": {},
   "outputs": [],
   "source": [
    "batch = next(iter(loader))"
   ]
  },
  {
   "cell_type": "code",
   "execution_count": 6,
   "metadata": {},
   "outputs": [],
   "source": [
    "# checking the coordinates after the noise for equality\n",
    "for receptors, noised_ligands in loader: \n",
    "    assert not any(sum(noised_ligands[0].pos == noised_ligands[1].pos))\n"
   ]
  },
  {
   "cell_type": "code",
   "execution_count": 12,
   "metadata": {},
   "outputs": [],
   "source": [
    "from biotite import structure\n",
    "import numpy as np\n",
    "\n",
    "ligand_0_fit, transformation = structure.superimpose(np.array(noised_ligands[0].true_pos), np.array(noised_ligands[0].pos))\n"
   ]
  },
  {
   "cell_type": "code",
   "execution_count": 18,
   "metadata": {},
   "outputs": [],
   "source": [
    "ligand_1 = noised_ligands[1].pos\n",
    "ligand_0 = noised_ligands[0].pos\n",
    "assert not (transformation.apply(np.array(ligand_1)) == ligand_0)"
   ]
  }
 ],
 "metadata": {
  "kernelspec": {
   "display_name": "Python 3",
   "language": "python",
   "name": "python3"
  },
  "language_info": {
   "codemirror_mode": {
    "name": "ipython",
    "version": 3
   },
   "file_extension": ".py",
   "mimetype": "text/x-python",
   "name": "python",
   "nbconvert_exporter": "python",
   "pygments_lexer": "ipython3",
   "version": "3.11.9"
  }
 },
 "nbformat": 4,
 "nbformat_minor": 2
}
