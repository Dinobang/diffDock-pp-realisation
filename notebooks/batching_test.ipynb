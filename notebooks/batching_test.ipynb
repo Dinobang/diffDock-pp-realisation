{
 "cells": [
  {
   "cell_type": "code",
   "execution_count": 19,
   "metadata": {},
   "outputs": [],
   "source": [
    "from pathlib import Path\n",
    "import sys\n",
    "\n",
    "sys.path.append(str(Path.cwd().parent))\n",
    "\n",
    "import numpy as np\n",
    "from biotite import structure\n",
    "from rpp_dock.data.datamodule import DataModule"
   ]
  },
  {
   "cell_type": "code",
   "execution_count": 20,
   "metadata": {},
   "outputs": [
    {
     "name": "stdout",
     "output_type": "stream",
     "text": [
      "The autoreload extension is already loaded. To reload it, use:\n",
      "  %reload_ext autoreload\n"
     ]
    }
   ],
   "source": [
    "%load_ext autoreload\n",
    "%autoreload 2"
   ]
  },
  {
   "cell_type": "code",
   "execution_count": 21,
   "metadata": {},
   "outputs": [
    {
     "name": "stderr",
     "output_type": "stream",
     "text": [
      "100%|██████████| 2252/2252 [00:02<00:00, 799.87it/s]\n",
      "100%|██████████| 2872/2872 [00:03<00:00, 906.91it/s] \n",
      "100%|██████████| 2252/2252 [00:02<00:00, 999.29it/s] \n",
      "100%|██████████| 2872/2872 [00:02<00:00, 1073.58it/s]\n"
     ]
    }
   ],
   "source": [
    "dm = DataModule(\n",
    "    pdbdir='../structures/',\n",
    "    train_csv='../splits_test.csv',\n",
    "    val_csv='../splits_test.csv',\n",
    "    batch_size=4\n",
    ")\n",
    "dm.setup(\"fit\")"
   ]
  },
  {
   "cell_type": "code",
   "execution_count": 22,
   "metadata": {},
   "outputs": [
    {
     "data": {
      "text/plain": [
       "<torch.utils.data.dataloader.DataLoader at 0x1f6fc0dd110>"
      ]
     },
     "execution_count": 22,
     "metadata": {},
     "output_type": "execute_result"
    }
   ],
   "source": [
    "loader = dm.train_dataloader()\n",
    "loader"
   ]
  },
  {
   "cell_type": "code",
   "execution_count": 23,
   "metadata": {},
   "outputs": [],
   "source": [
    "batch = next(iter(loader))"
   ]
  },
  {
   "cell_type": "code",
   "execution_count": 24,
   "metadata": {},
   "outputs": [],
   "source": [
    "# checking the coordinates after the noise for equality\n",
    "for receptors, noised_ligands in loader: \n",
    "    assert not any(sum(noised_ligands[0].pos == noised_ligands[1].pos))\n"
   ]
  },
  {
   "cell_type": "code",
   "execution_count": 25,
   "metadata": {},
   "outputs": [],
   "source": [
    "ligand_0_fit, transformation = structure.superimpose(np.array(noised_ligands[0].true_pos), np.array(noised_ligands[0].pos))\n"
   ]
  },
  {
   "cell_type": "code",
   "execution_count": 26,
   "metadata": {},
   "outputs": [],
   "source": [
    "ligand_1 = noised_ligands[1].pos\n",
    "ligand_0 = noised_ligands[0].pos\n",
    "assert not (transformation.apply(np.array(ligand_1)) == ligand_0)"
   ]
  }
 ],
 "metadata": {
  "kernelspec": {
   "display_name": "Python 3",
   "language": "python",
   "name": "python3"
  },
  "language_info": {
   "codemirror_mode": {
    "name": "ipython",
    "version": 3
   },
   "file_extension": ".py",
   "mimetype": "text/x-python",
   "name": "python",
   "nbconvert_exporter": "python",
   "pygments_lexer": "ipython3",
   "version": "3.11.9"
  }
 },
 "nbformat": 4,
 "nbformat_minor": 2
}
