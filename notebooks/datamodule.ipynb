{
 "cells": [
  {
   "cell_type": "code",
   "execution_count": 1,
   "metadata": {},
   "outputs": [],
   "source": [
    "from pathlib import Path\n",
    "import sys\n",
    "\n",
    "sys.path.append(str(Path.cwd().parent))\n",
    "\n",
    "from rpp_dock.data.datamodule import DataModule"
   ]
  },
  {
   "cell_type": "markdown",
   "metadata": {},
   "source": [
    "Для теста стоит добавить ещё пару структур, чтобы проверить работоспособность на батчах произвольного размера"
   ]
  },
  {
   "cell_type": "code",
   "execution_count": 2,
   "metadata": {},
   "outputs": [],
   "source": [
    "%load_ext autoreload\n",
    "%autoreload 2"
   ]
  },
  {
   "cell_type": "code",
   "execution_count": 3,
   "metadata": {},
   "outputs": [
    {
     "name": "stderr",
     "output_type": "stream",
     "text": [
      "c:\\Users\\Пуся\\Desktop\\mcs_prac\\mcs_prac\\rpp_dock\\utils\\geom_utils.py:15: UserWarning: Using torch.cross without specifying the dim arg is deprecated.\n",
      "Please either pass the dim explicitly or simply use torch.linalg.cross.\n",
      "The default value of dim will change to agree with that of linalg.cross in a future release. (Triggered internally at ..\\aten\\src\\ATen\\native\\Cross.cpp:67.)\n",
      "  n_i = torch.cross(u_i, t_i) / torch.linalg.norm(torch.cross(u_i, t_i))\n"
     ]
    },
    {
     "name": "stdout",
     "output_type": "stream",
     "text": [
      "tensor([[  1,   2,  51,  ..., 126, 131, 190],\n",
      "        [  0,   0,   0,  ..., 195, 195, 195]])\n"
     ]
    },
    {
     "name": "stderr",
     "output_type": "stream",
     "text": [
      "100%|██████████| 2252/2252 [00:02<00:00, 996.10it/s] \n"
     ]
    },
    {
     "name": "stdout",
     "output_type": "stream",
     "text": [
      "tensor([[  1,   4,   5,  ...,  94,  91, 242],\n",
      "        [  0,   0,   0,  ..., 247, 247, 247]])\n"
     ]
    },
    {
     "name": "stderr",
     "output_type": "stream",
     "text": [
      "100%|██████████| 2872/2872 [00:02<00:00, 1069.78it/s]\n"
     ]
    }
   ],
   "source": [
    "dm = DataModule(\n",
    "    pdbdir='../structures/',\n",
    "    train_csv='../splits_test.csv',\n",
    "    val_csv='../splits_test.csv',\n",
    "    batch_size=2,\n",
    "    transform_steps=10\n",
    ")\n",
    "dm.setup(\"fit\")"
   ]
  },
  {
   "cell_type": "code",
   "execution_count": 4,
   "metadata": {},
   "outputs": [
    {
     "data": {
      "text/plain": [
       "<torch.utils.data.dataloader.DataLoader at 0x2c6032fe9d0>"
      ]
     },
     "execution_count": 4,
     "metadata": {},
     "output_type": "execute_result"
    }
   ],
   "source": [
    "loader = dm.train_dataloader()\n",
    "loader"
   ]
  },
  {
   "cell_type": "code",
   "execution_count": 43,
   "metadata": {},
   "outputs": [
    {
     "name": "stdout",
     "output_type": "stream",
     "text": [
      "[Data(x=[1570], edge_index=[2, 2252], edge_attr=[2252], pos=[196, 3])] [Data(x=[1570], edge_index=[2, 2252], edge_attr=[2252], pos=[196, 3])]\n"
     ]
    },
    {
     "data": {
      "text/plain": [
       "(DataBatch(x=[1], edge_index=[2, 2872], edge_attr=[2872], pos=[248, 3], batch=[248], ptr=[2]),\n",
       " DataBatch(x=[1], edge_index=[2, 2252], edge_attr=[2252], pos=[196, 3], batch=[196], ptr=[2]))"
      ]
     },
     "execution_count": 43,
     "metadata": {},
     "output_type": "execute_result"
    }
   ],
   "source": [
    "next(iter(loader))"
   ]
  },
  {
   "cell_type": "code",
   "execution_count": null,
   "metadata": {},
   "outputs": [],
   "source": []
  }
 ],
 "metadata": {
  "kernelspec": {
   "display_name": "binari",
   "language": "python",
   "name": "python3"
  },
  "language_info": {
   "codemirror_mode": {
    "name": "ipython",
    "version": 3
   },
   "file_extension": ".py",
   "mimetype": "text/x-python",
   "name": "python",
   "nbconvert_exporter": "python",
   "pygments_lexer": "ipython3",
   "version": "3.11.9"
  }
 },
 "nbformat": 4,
 "nbformat_minor": 2
}
