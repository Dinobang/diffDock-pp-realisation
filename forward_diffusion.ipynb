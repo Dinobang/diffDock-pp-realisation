{
 "cells": [
  {
   "cell_type": "code",
   "execution_count": 1,
   "metadata": {},
   "outputs": [],
   "source": [
    "import numpy as np"
   ]
  },
  {
   "cell_type": "code",
   "execution_count": null,
   "metadata": {},
   "outputs": [],
   "source": [
    "\n",
    "\n",
    "def forward_diffusion(position, orientation, diffusion_coefficient, noise_std):\n",
    "    # шум для позиции\n",
    "    position_noise = np.random.normal(0, noise_std, 3)\n",
    "    \n",
    "    # шум для блуждания по сфере\n",
    "    orientation_noise = np.random.normal(0, np.sqrt(2 * diffusion_coefficient), 3)\n",
    "    orientation_noise /= np.linalg.norm(orientation_noise)\n",
    "    \n",
    "    # обновляем позицию и ориентацию\n",
    "    new_position = position + position_noise\n",
    "    new_orientation = orientation + orientation_noise\n",
    "    \n",
    "    return new_position, new_orientation"
   ]
  }
 ],
 "metadata": {
  "kernelspec": {
   "display_name": "Python 3",
   "language": "python",
   "name": "python3"
  },
  "language_info": {
   "codemirror_mode": {
    "name": "ipython",
    "version": 3
   },
   "file_extension": ".py",
   "mimetype": "text/x-python",
   "name": "python",
   "nbconvert_exporter": "python",
   "pygments_lexer": "ipython3",
   "version": "3.11.9"
  }
 },
 "nbformat": 4,
 "nbformat_minor": 2
}
